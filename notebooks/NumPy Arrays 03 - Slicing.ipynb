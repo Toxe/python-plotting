{
 "cells": [
  {
   "cell_type": "markdown",
   "id": "breeding-phoenix",
   "metadata": {},
   "source": [
    "# NumPy Arrays: Slicing"
   ]
  },
  {
   "cell_type": "code",
   "execution_count": 16,
   "id": "narrative-princess",
   "metadata": {},
   "outputs": [],
   "source": [
    "import numpy as np"
   ]
  },
  {
   "cell_type": "markdown",
   "id": "virtual-florida",
   "metadata": {},
   "source": [
    "## 3x3 RGB Image\n",
    "\n",
    "- 3 rows\n",
    "- 3 columns\n",
    "- every element consists of 3 bytes (RGB)"
   ]
  },
  {
   "cell_type": "code",
   "execution_count": 17,
   "id": "greater-heading",
   "metadata": {},
   "outputs": [
    {
     "data": {
      "text/plain": [
       "array([[[  1,  11, 111],\n",
       "        [  2,  22, 222],\n",
       "        [  3,  33, 333]],\n",
       "\n",
       "       [[  4,  44, 444],\n",
       "        [  5,  55, 555],\n",
       "        [  6,  66, 666]],\n",
       "\n",
       "       [[  7,  77, 777],\n",
       "        [  8,  88, 888],\n",
       "        [  9,  99, 999]]])"
      ]
     },
     "execution_count": 17,
     "metadata": {},
     "output_type": "execute_result"
    }
   ],
   "source": [
    "pixels = np.array([[[1,11,111],[2,22,222],[3,33,333]], [[4,44,444],[5,55,555],[6,66,666]], [[7,77,777],[8,88,888],[9,99,999]]])\n",
    "pixels"
   ]
  },
  {
   "cell_type": "markdown",
   "id": "ce2a17ae",
   "metadata": {},
   "source": [
    "### Return the middle RGB byte of each pixel as a flat list\n",
    "\n",
    "`...` is shorthand and inserts as many `:` in the index as necessary."
   ]
  },
  {
   "cell_type": "code",
   "execution_count": 18,
   "id": "2d641860",
   "metadata": {},
   "outputs": [
    {
     "data": {
      "text/plain": [
       "array([[11, 22, 33],\n",
       "       [44, 55, 66],\n",
       "       [77, 88, 99]])"
      ]
     },
     "execution_count": 18,
     "metadata": {},
     "output_type": "execute_result"
    }
   ],
   "source": [
    "pixels[:,:,1]"
   ]
  },
  {
   "cell_type": "code",
   "execution_count": 19,
   "id": "c4570ca1",
   "metadata": {},
   "outputs": [
    {
     "data": {
      "text/plain": [
       "array([11, 22, 33, 44, 55, 66, 77, 88, 99])"
      ]
     },
     "execution_count": 19,
     "metadata": {},
     "output_type": "execute_result"
    }
   ],
   "source": [
    "pixels[:,:,1].flatten()"
   ]
  },
  {
   "cell_type": "code",
   "execution_count": 20,
   "id": "3fdcd119",
   "metadata": {},
   "outputs": [
    {
     "data": {
      "text/plain": [
       "array([11, 22, 33, 44, 55, 66, 77, 88, 99])"
      ]
     },
     "execution_count": 20,
     "metadata": {},
     "output_type": "execute_result"
    }
   ],
   "source": [
    "pixels[...,1].flatten()"
   ]
  }
 ],
 "metadata": {
  "kernelspec": {
   "display_name": "Python 3",
   "language": "python",
   "name": "python3"
  },
  "language_info": {
   "codemirror_mode": {
    "name": "ipython",
    "version": 3
   },
   "file_extension": ".py",
   "mimetype": "text/x-python",
   "name": "python",
   "nbconvert_exporter": "python",
   "pygments_lexer": "ipython3",
   "version": "3.12.4"
  }
 },
 "nbformat": 4,
 "nbformat_minor": 5
}
