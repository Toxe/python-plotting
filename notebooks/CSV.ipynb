{
 "cells": [
  {
   "cell_type": "markdown",
   "id": "9e0a6450",
   "metadata": {},
   "source": [
    "# CSV"
   ]
  },
  {
   "cell_type": "code",
   "execution_count": 40,
   "id": "064e7f89",
   "metadata": {},
   "outputs": [],
   "source": [
    "import pandas as pd\n",
    "from matplotlib_inline.backend_inline import set_matplotlib_formats\n",
    "\n",
    "set_matplotlib_formats(\"svg\")"
   ]
  },
  {
   "cell_type": "markdown",
   "id": "c7db05a0",
   "metadata": {},
   "source": [
    "## Import"
   ]
  },
  {
   "cell_type": "code",
   "execution_count": 41,
   "id": "92efd789",
   "metadata": {},
   "outputs": [
    {
     "data": {
      "text/html": [
       "<div>\n",
       "<style scoped>\n",
       "    .dataframe tbody tr th:only-of-type {\n",
       "        vertical-align: middle;\n",
       "    }\n",
       "\n",
       "    .dataframe tbody tr th {\n",
       "        vertical-align: top;\n",
       "    }\n",
       "\n",
       "    .dataframe thead th {\n",
       "        text-align: right;\n",
       "    }\n",
       "</style>\n",
       "<table border=\"1\" class=\"dataframe\">\n",
       "  <thead>\n",
       "    <tr style=\"text-align: right;\">\n",
       "      <th></th>\n",
       "      <th>time</th>\n",
       "      <th>url</th>\n",
       "      <th>ms</th>\n",
       "    </tr>\n",
       "  </thead>\n",
       "  <tbody>\n",
       "    <tr>\n",
       "      <th>0</th>\n",
       "      <td>2021-04-01 19:43:53.907</td>\n",
       "      <td>https://example.com</td>\n",
       "      <td>33</td>\n",
       "    </tr>\n",
       "    <tr>\n",
       "      <th>1</th>\n",
       "      <td>2021-04-01 19:44:03.923</td>\n",
       "      <td>https://example.com</td>\n",
       "      <td>15</td>\n",
       "    </tr>\n",
       "    <tr>\n",
       "      <th>2</th>\n",
       "      <td>2021-04-01 19:44:14.710</td>\n",
       "      <td>https://example.com</td>\n",
       "      <td>785</td>\n",
       "    </tr>\n",
       "    <tr>\n",
       "      <th>3</th>\n",
       "      <td>2021-04-01 19:44:24.821</td>\n",
       "      <td>https://example.com</td>\n",
       "      <td>109</td>\n",
       "    </tr>\n",
       "    <tr>\n",
       "      <th>4</th>\n",
       "      <td>2021-04-01 19:44:34.866</td>\n",
       "      <td>https://example.com</td>\n",
       "      <td>44</td>\n",
       "    </tr>\n",
       "    <tr>\n",
       "      <th>5</th>\n",
       "      <td>2021-04-01 19:44:44.912</td>\n",
       "      <td>https://example.com</td>\n",
       "      <td>43</td>\n",
       "    </tr>\n",
       "    <tr>\n",
       "      <th>6</th>\n",
       "      <td>2021-04-01 19:44:54.960</td>\n",
       "      <td>https://example.com</td>\n",
       "      <td>46</td>\n",
       "    </tr>\n",
       "    <tr>\n",
       "      <th>7</th>\n",
       "      <td>2021-04-01 19:45:05.006</td>\n",
       "      <td>https://example.com</td>\n",
       "      <td>44</td>\n",
       "    </tr>\n",
       "    <tr>\n",
       "      <th>8</th>\n",
       "      <td>2021-04-01 19:45:15.051</td>\n",
       "      <td>https://example.com</td>\n",
       "      <td>43</td>\n",
       "    </tr>\n",
       "    <tr>\n",
       "      <th>9</th>\n",
       "      <td>2021-04-01 19:45:25.095</td>\n",
       "      <td>https://example.com</td>\n",
       "      <td>43</td>\n",
       "    </tr>\n",
       "  </tbody>\n",
       "</table>\n",
       "</div>"
      ],
      "text/plain": [
       "                     time                  url   ms\n",
       "0 2021-04-01 19:43:53.907  https://example.com   33\n",
       "1 2021-04-01 19:44:03.923  https://example.com   15\n",
       "2 2021-04-01 19:44:14.710  https://example.com  785\n",
       "3 2021-04-01 19:44:24.821  https://example.com  109\n",
       "4 2021-04-01 19:44:34.866  https://example.com   44\n",
       "5 2021-04-01 19:44:44.912  https://example.com   43\n",
       "6 2021-04-01 19:44:54.960  https://example.com   46\n",
       "7 2021-04-01 19:45:05.006  https://example.com   44\n",
       "8 2021-04-01 19:45:15.051  https://example.com   43\n",
       "9 2021-04-01 19:45:25.095  https://example.com   43"
      ]
     },
     "execution_count": 41,
     "metadata": {},
     "output_type": "execute_result"
    }
   ],
   "source": [
    "df = pd.read_csv(\"../data/requests.csv\", parse_dates=[\"time\"])\n",
    "df"
   ]
  },
  {
   "cell_type": "code",
   "execution_count": 42,
   "id": "fa00b243",
   "metadata": {},
   "outputs": [
    {
     "name": "stdout",
     "output_type": "stream",
     "text": [
      "                     time                  url   ms\n",
      "0 2021-04-01 19:43:53.907  https://example.com   33\n",
      "1 2021-04-01 19:44:03.923  https://example.com   15\n",
      "2 2021-04-01 19:44:14.710  https://example.com  785\n",
      "3 2021-04-01 19:44:24.821  https://example.com  109\n",
      "4 2021-04-01 19:44:34.866  https://example.com   44\n",
      "5 2021-04-01 19:44:44.912  https://example.com   43\n",
      "6 2021-04-01 19:44:54.960  https://example.com   46\n",
      "7 2021-04-01 19:45:05.006  https://example.com   44\n",
      "8 2021-04-01 19:45:15.051  https://example.com   43\n",
      "9 2021-04-01 19:45:25.095  https://example.com   43\n"
     ]
    }
   ],
   "source": [
    "print(df)"
   ]
  },
  {
   "cell_type": "code",
   "execution_count": 43,
   "id": "f3c1cfdd",
   "metadata": {},
   "outputs": [
    {
     "name": "stdout",
     "output_type": "stream",
     "text": [
      "[[Timestamp('2021-04-01 19:43:53.907000') 'https://example.com' 33]\n",
      " [Timestamp('2021-04-01 19:44:03.923000') 'https://example.com' 15]\n",
      " [Timestamp('2021-04-01 19:44:14.710000') 'https://example.com' 785]\n",
      " [Timestamp('2021-04-01 19:44:24.821000') 'https://example.com' 109]\n",
      " [Timestamp('2021-04-01 19:44:34.866000') 'https://example.com' 44]\n",
      " [Timestamp('2021-04-01 19:44:44.912000') 'https://example.com' 43]\n",
      " [Timestamp('2021-04-01 19:44:54.960000') 'https://example.com' 46]\n",
      " [Timestamp('2021-04-01 19:45:05.006000') 'https://example.com' 44]\n",
      " [Timestamp('2021-04-01 19:45:15.051000') 'https://example.com' 43]\n",
      " [Timestamp('2021-04-01 19:45:25.095000') 'https://example.com' 43]]\n"
     ]
    }
   ],
   "source": [
    "print(df.values)"
   ]
  },
  {
   "cell_type": "code",
   "execution_count": 44,
   "id": "cd2d72d2",
   "metadata": {},
   "outputs": [
    {
     "data": {
      "text/plain": [
       "0   2021-04-01 19:43:53.907\n",
       "1   2021-04-01 19:44:03.923\n",
       "2   2021-04-01 19:44:14.710\n",
       "3   2021-04-01 19:44:24.821\n",
       "4   2021-04-01 19:44:34.866\n",
       "5   2021-04-01 19:44:44.912\n",
       "6   2021-04-01 19:44:54.960\n",
       "7   2021-04-01 19:45:05.006\n",
       "8   2021-04-01 19:45:15.051\n",
       "9   2021-04-01 19:45:25.095\n",
       "Name: time, dtype: datetime64[ns]"
      ]
     },
     "execution_count": 44,
     "metadata": {},
     "output_type": "execute_result"
    }
   ],
   "source": [
    "df[\"time\"]"
   ]
  }
 ],
 "metadata": {
  "kernelspec": {
   "display_name": "Python 3",
   "language": "python",
   "name": "python3"
  },
  "language_info": {
   "codemirror_mode": {
    "name": "ipython",
    "version": 3
   },
   "file_extension": ".py",
   "mimetype": "text/x-python",
   "name": "python",
   "nbconvert_exporter": "python",
   "pygments_lexer": "ipython3",
   "version": "3.12.4"
  }
 },
 "nbformat": 4,
 "nbformat_minor": 5
}
