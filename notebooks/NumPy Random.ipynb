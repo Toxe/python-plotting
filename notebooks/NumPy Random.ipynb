{
 "cells": [
  {
   "cell_type": "markdown",
   "id": "thick-quest",
   "metadata": {},
   "source": [
    "# NumPy Random"
   ]
  },
  {
   "cell_type": "code",
   "execution_count": 1,
   "id": "overall-batman",
   "metadata": {},
   "outputs": [],
   "source": [
    "import numpy as np"
   ]
  },
  {
   "cell_type": "code",
   "execution_count": 2,
   "id": "incorporated-essence",
   "metadata": {},
   "outputs": [],
   "source": [
    "rg = np.random.default_rng()"
   ]
  },
  {
   "cell_type": "markdown",
   "id": "sufficient-scroll",
   "metadata": {},
   "source": [
    "## Floats"
   ]
  },
  {
   "cell_type": "code",
   "execution_count": 3,
   "id": "naval-meaning",
   "metadata": {},
   "outputs": [
    {
     "data": {
      "text/plain": [
       "0.11432963479711888"
      ]
     },
     "execution_count": 3,
     "metadata": {},
     "output_type": "execute_result"
    }
   ],
   "source": [
    "rg.random()"
   ]
  },
  {
   "cell_type": "code",
   "execution_count": 4,
   "id": "announced-parks",
   "metadata": {},
   "outputs": [
    {
     "data": {
      "text/plain": [
       "array([0.90932212, 0.48552812, 0.8262711 , 0.48604828, 0.26718589])"
      ]
     },
     "execution_count": 4,
     "metadata": {},
     "output_type": "execute_result"
    }
   ],
   "source": [
    "rg.random(5)"
   ]
  },
  {
   "cell_type": "code",
   "execution_count": 5,
   "id": "opened-spotlight",
   "metadata": {},
   "outputs": [
    {
     "data": {
      "text/plain": [
       "array([[0.39802666, 0.37033862],\n",
       "       [0.46525811, 0.34355214],\n",
       "       [0.35331676, 0.75073855],\n",
       "       [0.43492641, 0.852152  ]])"
      ]
     },
     "execution_count": 5,
     "metadata": {},
     "output_type": "execute_result"
    }
   ],
   "source": [
    "rg.random((4, 2))"
   ]
  },
  {
   "cell_type": "markdown",
   "id": "blank-trainer",
   "metadata": {},
   "source": [
    "## Integers"
   ]
  },
  {
   "cell_type": "code",
   "execution_count": 6,
   "id": "black-accident",
   "metadata": {},
   "outputs": [
    {
     "data": {
      "text/plain": [
       "array([2, 3, 6, 1])"
      ]
     },
     "execution_count": 6,
     "metadata": {},
     "output_type": "execute_result"
    }
   ],
   "source": [
    "rg.integers(1, 7, 4)"
   ]
  },
  {
   "cell_type": "code",
   "execution_count": 13,
   "id": "critical-degree",
   "metadata": {},
   "outputs": [
    {
     "data": {
      "text/plain": [
       "array([[ 12,  77,  19, 244],\n",
       "       [235, 243, 249, 220],\n",
       "       [209, 238,  40,  21],\n",
       "       [201,  15, 183,  83]], dtype=uint8)"
      ]
     },
     "execution_count": 13,
     "metadata": {},
     "output_type": "execute_result"
    }
   ],
   "source": [
    "rg.integers(0, 256, (4, 4), dtype=np.uint8)"
   ]
  },
  {
   "cell_type": "markdown",
   "id": "suitable-cyprus",
   "metadata": {},
   "source": [
    "## Bytes"
   ]
  },
  {
   "cell_type": "code",
   "execution_count": 8,
   "id": "graphic-natural",
   "metadata": {},
   "outputs": [
    {
     "data": {
      "text/plain": [
       "b'U\\xa9\\xf3\\x8c\\xa31n@\\xfd\\x1b'"
      ]
     },
     "execution_count": 8,
     "metadata": {},
     "output_type": "execute_result"
    }
   ],
   "source": [
    "rg.bytes(10)"
   ]
  },
  {
   "cell_type": "markdown",
   "id": "weekly-somerset",
   "metadata": {},
   "source": [
    "## Shuffle Array"
   ]
  },
  {
   "cell_type": "code",
   "execution_count": 9,
   "id": "descending-flash",
   "metadata": {},
   "outputs": [
    {
     "data": {
      "text/plain": [
       "array([0, 1, 2, 3, 4, 5, 6, 7, 8, 9])"
      ]
     },
     "execution_count": 9,
     "metadata": {},
     "output_type": "execute_result"
    }
   ],
   "source": [
    "a = np.arange(0, 10)\n",
    "a"
   ]
  },
  {
   "cell_type": "code",
   "execution_count": 10,
   "id": "institutional-accommodation",
   "metadata": {},
   "outputs": [
    {
     "data": {
      "text/plain": [
       "array([7, 4, 3, 8, 1, 9, 5, 0, 2, 6])"
      ]
     },
     "execution_count": 10,
     "metadata": {},
     "output_type": "execute_result"
    }
   ],
   "source": [
    "rg.shuffle(a)\n",
    "a"
   ]
  }
 ],
 "metadata": {
  "kernelspec": {
   "display_name": "Python 3",
   "language": "python",
   "name": "python3"
  },
  "language_info": {
   "codemirror_mode": {
    "name": "ipython",
    "version": 3
   },
   "file_extension": ".py",
   "mimetype": "text/x-python",
   "name": "python",
   "nbconvert_exporter": "python",
   "pygments_lexer": "ipython3",
   "version": "3.12.4"
  }
 },
 "nbformat": 4,
 "nbformat_minor": 5
}
