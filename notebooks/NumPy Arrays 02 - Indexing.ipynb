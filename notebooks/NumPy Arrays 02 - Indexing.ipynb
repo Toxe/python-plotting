{
 "cells": [
  {
   "cell_type": "markdown",
   "id": "portuguese-stevens",
   "metadata": {},
   "source": [
    "# NumPy Arrays: Indexing"
   ]
  },
  {
   "cell_type": "code",
   "execution_count": 70,
   "id": "rural-topic",
   "metadata": {},
   "outputs": [],
   "source": [
    "import numpy as np"
   ]
  },
  {
   "cell_type": "markdown",
   "id": "outstanding-perspective",
   "metadata": {},
   "source": [
    "## Using an integer Array index\n",
    "\n",
    "https://numpy.org/doc/stable/user/quickstart.html#indexing-with-arrays-of-indices\n",
    "\n",
    "The integer indices define the values that should be returned."
   ]
  },
  {
   "cell_type": "markdown",
   "id": "reflected-burns",
   "metadata": {},
   "source": [
    "### Index 1D Array with another 1D Array\n",
    "\n",
    "Returns a 1D array."
   ]
  },
  {
   "cell_type": "code",
   "execution_count": 71,
   "id": "challenging-unknown",
   "metadata": {},
   "outputs": [
    {
     "name": "stdout",
     "output_type": "stream",
     "text": [
      "[  1   4   9  16  25  36  49  64  81 100 121 144 169 196 225 256]\n",
      "[1 3 5 7]\n",
      "[ 4 16 36 64]\n"
     ]
    }
   ],
   "source": [
    "squares = np.arange(1, 17)**2\n",
    "idx = np.array([1, 3, 5, 7])\n",
    "print(squares)\n",
    "print(idx)\n",
    "print(squares[idx])"
   ]
  },
  {
   "cell_type": "markdown",
   "id": "automatic-surname",
   "metadata": {},
   "source": [
    "### Index 1D Array with a 2D Array\n",
    "\n",
    "Returns a 2D array."
   ]
  },
  {
   "cell_type": "code",
   "execution_count": 72,
   "id": "analyzed-costa",
   "metadata": {},
   "outputs": [
    {
     "name": "stdout",
     "output_type": "stream",
     "text": [
      "[  1   4   9  16  25  36  49  64  81 100 121 144 169 196 225 256]\n"
     ]
    }
   ],
   "source": [
    "squares = np.arange(1, 17)**2\n",
    "print(squares)"
   ]
  },
  {
   "cell_type": "code",
   "execution_count": 73,
   "id": "tamil-idaho",
   "metadata": {},
   "outputs": [
    {
     "data": {
      "text/plain": [
       "array([[1, 3],\n",
       "       [5, 7]])"
      ]
     },
     "execution_count": 73,
     "metadata": {},
     "output_type": "execute_result"
    }
   ],
   "source": [
    "idx = np.array([[1, 3], [5, 7]])\n",
    "idx"
   ]
  },
  {
   "cell_type": "code",
   "execution_count": 74,
   "id": "happy-volleyball",
   "metadata": {},
   "outputs": [
    {
     "data": {
      "text/plain": [
       "array([[ 4, 16],\n",
       "       [36, 64]])"
      ]
     },
     "execution_count": 74,
     "metadata": {},
     "output_type": "execute_result"
    }
   ],
   "source": [
    "squares[idx]"
   ]
  },
  {
   "cell_type": "markdown",
   "id": "revolutionary-advisory",
   "metadata": {},
   "source": [
    "### Index 2D Array with a 1D Array\n",
    "\n",
    "Indexes the rows."
   ]
  },
  {
   "cell_type": "code",
   "execution_count": 75,
   "id": "united-reader",
   "metadata": {},
   "outputs": [
    {
     "data": {
      "text/plain": [
       "array([[  1,   4,   9,  16],\n",
       "       [ 25,  36,  49,  64],\n",
       "       [ 81, 100, 121, 144],\n",
       "       [169, 196, 225, 256]])"
      ]
     },
     "execution_count": 75,
     "metadata": {},
     "output_type": "execute_result"
    }
   ],
   "source": [
    "squares = np.arange(1, 17).reshape((4, 4))**2\n",
    "squares"
   ]
  },
  {
   "cell_type": "code",
   "execution_count": 76,
   "id": "atomic-creation",
   "metadata": {},
   "outputs": [
    {
     "data": {
      "text/plain": [
       "array([[ 25,  36,  49,  64],\n",
       "       [169, 196, 225, 256]])"
      ]
     },
     "execution_count": 76,
     "metadata": {},
     "output_type": "execute_result"
    }
   ],
   "source": [
    "idx = np.array([1, 3])\n",
    "squares[idx]  # returns the 2nd and 4th row"
   ]
  },
  {
   "cell_type": "markdown",
   "id": "economic-ordinance",
   "metadata": {},
   "source": [
    "## Using a Boolean Array index\n",
    "\n",
    "https://numpy.org/doc/stable/user/quickstart.html#indexing-with-boolean-arrays\n",
    "\n",
    "If the Boolean array has the same size/shape as the array to be indexed, the values where the index is `True` will be returned."
   ]
  },
  {
   "cell_type": "markdown",
   "id": "chinese-collection",
   "metadata": {},
   "source": [
    "### 1D Arrays"
   ]
  },
  {
   "cell_type": "code",
   "execution_count": 77,
   "id": "backed-packet",
   "metadata": {},
   "outputs": [
    {
     "name": "stdout",
     "output_type": "stream",
     "text": [
      "[0 1 2 3 4 5 6 7 8 9]\n",
      "[False False False False False  True  True  True  True  True]\n",
      "[5 6 7 8 9]\n"
     ]
    }
   ],
   "source": [
    "numbers = np.arange(10)\n",
    "idx = numbers > 4\n",
    "print(numbers)\n",
    "print(idx)\n",
    "print(numbers[idx])"
   ]
  },
  {
   "cell_type": "markdown",
   "id": "dressed-newsletter",
   "metadata": {},
   "source": [
    "### 2D Arrays"
   ]
  },
  {
   "cell_type": "code",
   "execution_count": 78,
   "id": "combined-bruce",
   "metadata": {},
   "outputs": [
    {
     "name": "stdout",
     "output_type": "stream",
     "text": [
      "[[ 1  2  3  4]\n",
      " [ 5  6  7  8]\n",
      " [ 9 10 11 12]\n",
      " [13 14 15 16]]\n"
     ]
    }
   ],
   "source": [
    "numbers = np.arange(1, 17).reshape((4, 4))\n",
    "print(numbers)"
   ]
  },
  {
   "cell_type": "code",
   "execution_count": 79,
   "id": "valid-array",
   "metadata": {},
   "outputs": [
    {
     "name": "stdout",
     "output_type": "stream",
     "text": [
      "[[False False False False]\n",
      " [ True False False False]\n",
      " [False  True False False]\n",
      " [False False  True False]]\n"
     ]
    }
   ],
   "source": [
    "idx = numbers % 5 == 0\n",
    "print(idx)"
   ]
  },
  {
   "cell_type": "code",
   "execution_count": 80,
   "id": "planned-surveillance",
   "metadata": {},
   "outputs": [
    {
     "name": "stdout",
     "output_type": "stream",
     "text": [
      "[ 5 10 15]\n"
     ]
    }
   ],
   "source": [
    "print(numbers[idx])"
   ]
  },
  {
   "cell_type": "markdown",
   "id": "changed-lafayette",
   "metadata": {},
   "source": [
    "### Assign new values\n",
    "\n",
    "Overwrite all values where the index is `True`."
   ]
  },
  {
   "cell_type": "code",
   "execution_count": 81,
   "id": "executed-failure",
   "metadata": {},
   "outputs": [
    {
     "name": "stdout",
     "output_type": "stream",
     "text": [
      "[[  1   2   3   4]\n",
      " [999   6   7   8]\n",
      " [  9 999  11  12]\n",
      " [ 13  14 999  16]]\n"
     ]
    }
   ],
   "source": [
    "numbers[idx] = 999\n",
    "print(numbers)"
   ]
  }
 ],
 "metadata": {
  "kernelspec": {
   "display_name": "Python 3",
   "language": "python",
   "name": "python3"
  },
  "language_info": {
   "codemirror_mode": {
    "name": "ipython",
    "version": 3
   },
   "file_extension": ".py",
   "mimetype": "text/x-python",
   "name": "python",
   "nbconvert_exporter": "python",
   "pygments_lexer": "ipython3",
   "version": "3.12.4"
  }
 },
 "nbformat": 4,
 "nbformat_minor": 5
}
