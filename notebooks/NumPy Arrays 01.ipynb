{
 "cells": [
  {
   "cell_type": "markdown",
   "id": "catholic-whole",
   "metadata": {},
   "source": [
    "# NumPy Arrays"
   ]
  },
  {
   "cell_type": "code",
   "execution_count": 95,
   "id": "convertible-milwaukee",
   "metadata": {},
   "outputs": [],
   "source": [
    "import numpy as np"
   ]
  },
  {
   "cell_type": "markdown",
   "id": "recent-condition",
   "metadata": {},
   "source": [
    "## Array Infos"
   ]
  },
  {
   "cell_type": "code",
   "execution_count": 96,
   "id": "changing-pennsylvania",
   "metadata": {},
   "outputs": [
    {
     "data": {
      "text/plain": [
       "array([[1, 2, 3, 4],\n",
       "       [5, 6, 7, 8]], dtype=int16)"
      ]
     },
     "execution_count": 96,
     "metadata": {},
     "output_type": "execute_result"
    }
   ],
   "source": [
    "a = np.array([[1, 2, 3, 4], [5, 6, 7, 8]], np.int16)\n",
    "a"
   ]
  },
  {
   "cell_type": "code",
   "execution_count": 97,
   "id": "romantic-nursing",
   "metadata": {},
   "outputs": [
    {
     "name": "stdout",
     "output_type": "stream",
     "text": [
      "    type: <class 'numpy.ndarray'>\n",
      "    ndim: 2\n",
      "   shape: (2, 4)\n",
      "    size: 8\n",
      "   dtype: int16\n",
      "itemsize: 2\n",
      "  nbytes: 16\n"
     ]
    }
   ],
   "source": [
    "print(\"    type:\", type(a))\n",
    "print(\"    ndim:\", a.ndim)\n",
    "print(\"   shape:\", a.shape)\n",
    "print(\"    size:\", a.size)\n",
    "print(\"   dtype:\", a.dtype)\n",
    "print(\"itemsize:\", a.itemsize)\n",
    "print(\"  nbytes:\", a.nbytes)"
   ]
  },
  {
   "cell_type": "markdown",
   "id": "knowing-fountain",
   "metadata": {},
   "source": [
    "## Create Arrays\n",
    "\n",
    "The `shape` parameter is either an `int` (number of elements) or a tuple for the dimensions."
   ]
  },
  {
   "cell_type": "markdown",
   "id": "78ae3d62",
   "metadata": {},
   "source": [
    "### Don't initialize the Array values"
   ]
  },
  {
   "cell_type": "code",
   "execution_count": 98,
   "id": "phantom-french",
   "metadata": {},
   "outputs": [
    {
     "data": {
      "text/plain": [
       "array([0.e+000, 0.e+000, 1.e-323, 0.e+000, 0.e+000, 0.e+000, 0.e+000,\n",
       "       0.e+000])"
      ]
     },
     "execution_count": 98,
     "metadata": {},
     "output_type": "execute_result"
    }
   ],
   "source": [
    "np.empty(8)"
   ]
  },
  {
   "cell_type": "markdown",
   "id": "7a3b695f",
   "metadata": {},
   "source": [
    "### Initialize Array with a fixed value"
   ]
  },
  {
   "cell_type": "code",
   "execution_count": 99,
   "id": "contained-undergraduate",
   "metadata": {},
   "outputs": [
    {
     "data": {
      "text/plain": [
       "array([0., 0., 0., 0., 0., 0., 0., 0., 0., 0.])"
      ]
     },
     "execution_count": 99,
     "metadata": {},
     "output_type": "execute_result"
    }
   ],
   "source": [
    "np.zeros(10)"
   ]
  },
  {
   "cell_type": "code",
   "execution_count": 100,
   "id": "closing-agency",
   "metadata": {},
   "outputs": [
    {
     "data": {
      "text/plain": [
       "array([[0., 0.],\n",
       "       [0., 0.],\n",
       "       [0., 0.],\n",
       "       [0., 0.]])"
      ]
     },
     "execution_count": 100,
     "metadata": {},
     "output_type": "execute_result"
    }
   ],
   "source": [
    "np.zeros((4, 2))"
   ]
  },
  {
   "cell_type": "code",
   "execution_count": 101,
   "id": "final-harrison",
   "metadata": {},
   "outputs": [
    {
     "data": {
      "text/plain": [
       "array([[0., 0., 0., 0.],\n",
       "       [0., 0., 0., 0.]])"
      ]
     },
     "execution_count": 101,
     "metadata": {},
     "output_type": "execute_result"
    }
   ],
   "source": [
    "np.zeros((2, 4))"
   ]
  },
  {
   "cell_type": "code",
   "execution_count": 102,
   "id": "invisible-politics",
   "metadata": {},
   "outputs": [
    {
     "data": {
      "text/plain": [
       "array([1., 1., 1., 1., 1., 1., 1., 1., 1., 1.])"
      ]
     },
     "execution_count": 102,
     "metadata": {},
     "output_type": "execute_result"
    }
   ],
   "source": [
    "np.ones(10)"
   ]
  },
  {
   "cell_type": "code",
   "execution_count": 103,
   "id": "absent-declaration",
   "metadata": {},
   "outputs": [
    {
     "data": {
      "text/plain": [
       "array([42, 42, 42, 42, 42, 42, 42, 42, 42, 42])"
      ]
     },
     "execution_count": 103,
     "metadata": {},
     "output_type": "execute_result"
    }
   ],
   "source": [
    "np.full(10, 42)"
   ]
  },
  {
   "cell_type": "code",
   "execution_count": 104,
   "id": "improving-reservoir",
   "metadata": {},
   "outputs": [
    {
     "data": {
      "text/plain": [
       "array([['four', 'four', 'four', 'four'],\n",
       "       ['four', 'four', 'four', 'four'],\n",
       "       ['four', 'four', 'four', 'four'],\n",
       "       ['four', 'four', 'four', 'four']], dtype='<U4')"
      ]
     },
     "execution_count": 104,
     "metadata": {},
     "output_type": "execute_result"
    }
   ],
   "source": [
    "np.full((4, 4), \"four\")"
   ]
  },
  {
   "cell_type": "markdown",
   "id": "impressed-hacker",
   "metadata": {},
   "source": [
    "### Arrays with existing data"
   ]
  },
  {
   "cell_type": "code",
   "execution_count": 105,
   "id": "modern-asset",
   "metadata": {},
   "outputs": [
    {
     "data": {
      "text/plain": [
       "array([1, 2, 3, 4, 5])"
      ]
     },
     "execution_count": 105,
     "metadata": {},
     "output_type": "execute_result"
    }
   ],
   "source": [
    "np.array([1, 2, 3, 4, 5])"
   ]
  },
  {
   "cell_type": "code",
   "execution_count": 106,
   "id": "amino-instrument",
   "metadata": {},
   "outputs": [
    {
     "data": {
      "text/plain": [
       "array([[1, 2, 3, 4],\n",
       "       [5, 6, 7, 8]])"
      ]
     },
     "execution_count": 106,
     "metadata": {},
     "output_type": "execute_result"
    }
   ],
   "source": [
    "np.array([[1, 2, 3, 4], [5, 6, 7, 8]])"
   ]
  },
  {
   "cell_type": "code",
   "execution_count": 107,
   "id": "wireless-charity",
   "metadata": {},
   "outputs": [
    {
     "data": {
      "text/plain": [
       "array([1, 2, 3, 4, 5], dtype=uint8)"
      ]
     },
     "execution_count": 107,
     "metadata": {},
     "output_type": "execute_result"
    }
   ],
   "source": [
    "np.array([1, 2, 3, 4, 5], np.uint8)"
   ]
  },
  {
   "cell_type": "code",
   "execution_count": 108,
   "id": "cooperative-oxide",
   "metadata": {},
   "outputs": [
    {
     "data": {
      "text/plain": [
       "array([0, 1, 2, 3, 4, 5, 6, 7])"
      ]
     },
     "execution_count": 108,
     "metadata": {},
     "output_type": "execute_result"
    }
   ],
   "source": [
    "np.array(range(8))"
   ]
  },
  {
   "cell_type": "code",
   "execution_count": 109,
   "id": "spanish-business",
   "metadata": {},
   "outputs": [
    {
     "data": {
      "text/plain": [
       "array([ 0,  1,  4,  9, 16, 25, 36, 49, 64, 81])"
      ]
     },
     "execution_count": 109,
     "metadata": {},
     "output_type": "execute_result"
    }
   ],
   "source": [
    "np.array([x*x for x in range(10)])"
   ]
  },
  {
   "cell_type": "code",
   "execution_count": 110,
   "id": "announced-sarah",
   "metadata": {},
   "outputs": [
    {
     "data": {
      "text/plain": [
       "array([1., 2., 3.], dtype=float32)"
      ]
     },
     "execution_count": 110,
     "metadata": {},
     "output_type": "execute_result"
    }
   ],
   "source": [
    "it = iter([1, 2, 3])\n",
    "np.fromiter(it, np.float32)"
   ]
  },
  {
   "cell_type": "markdown",
   "id": "indoor-percentage",
   "metadata": {},
   "source": [
    "### Copy Array"
   ]
  },
  {
   "cell_type": "code",
   "execution_count": 111,
   "id": "large-portal",
   "metadata": {},
   "outputs": [
    {
     "data": {
      "text/plain": [
       "array([0, 1, 2, 3, 4, 5, 6, 7, 8, 9])"
      ]
     },
     "execution_count": 111,
     "metadata": {},
     "output_type": "execute_result"
    }
   ],
   "source": [
    "a = np.arange(10)\n",
    "b = a.copy()\n",
    "a.fill(9)\n",
    "b"
   ]
  },
  {
   "cell_type": "markdown",
   "id": "front-highland",
   "metadata": {},
   "source": [
    "## Ranges"
   ]
  },
  {
   "cell_type": "code",
   "execution_count": 112,
   "id": "impressed-williams",
   "metadata": {},
   "outputs": [
    {
     "data": {
      "text/plain": [
       "array([0, 1, 2, 3, 4, 5, 6, 7, 8, 9])"
      ]
     },
     "execution_count": 112,
     "metadata": {},
     "output_type": "execute_result"
    }
   ],
   "source": [
    "np.arange(10)"
   ]
  },
  {
   "cell_type": "code",
   "execution_count": 113,
   "id": "fewer-roommate",
   "metadata": {},
   "outputs": [
    {
     "data": {
      "text/plain": [
       "array([20, 21, 22, 23, 24, 25, 26, 27, 28, 29])"
      ]
     },
     "execution_count": 113,
     "metadata": {},
     "output_type": "execute_result"
    }
   ],
   "source": [
    "np.arange(20, 30)"
   ]
  },
  {
   "cell_type": "code",
   "execution_count": 114,
   "id": "spoken-morgan",
   "metadata": {},
   "outputs": [
    {
     "data": {
      "text/plain": [
       "array([ 10,  20,  30,  40,  50,  60,  70,  80,  90, 100])"
      ]
     },
     "execution_count": 114,
     "metadata": {},
     "output_type": "execute_result"
    }
   ],
   "source": [
    "np.arange(10, 110, 10)"
   ]
  },
  {
   "cell_type": "code",
   "execution_count": 115,
   "id": "monthly-machinery",
   "metadata": {},
   "outputs": [
    {
     "data": {
      "text/plain": [
       "array([0.  , 0.25, 0.5 , 0.75, 1.  , 1.25, 1.5 , 1.75, 2.  ])"
      ]
     },
     "execution_count": 115,
     "metadata": {},
     "output_type": "execute_result"
    }
   ],
   "source": [
    "np.linspace(0, 2, 9)  # evenly spaced numbers over a specified interval"
   ]
  },
  {
   "cell_type": "markdown",
   "id": "attached-hands",
   "metadata": {},
   "source": [
    "## Transform Arrays"
   ]
  },
  {
   "cell_type": "code",
   "execution_count": 116,
   "id": "silver-commander",
   "metadata": {},
   "outputs": [
    {
     "data": {
      "text/plain": [
       "array([[ 1,  2,  3,  4],\n",
       "       [ 5,  6,  7,  8],\n",
       "       [ 9, 10, 11, 12],\n",
       "       [13, 14, 15, 16]])"
      ]
     },
     "execution_count": 116,
     "metadata": {},
     "output_type": "execute_result"
    }
   ],
   "source": [
    "np.arange(1, 17).reshape((4, 4))"
   ]
  },
  {
   "cell_type": "code",
   "execution_count": 117,
   "id": "severe-partner",
   "metadata": {},
   "outputs": [
    {
     "data": {
      "text/plain": [
       "array([[ 1,  2,  3,  4,  5,  6,  7,  8],\n",
       "       [ 9, 10, 11, 12, 13, 14, 15, 16]])"
      ]
     },
     "execution_count": 117,
     "metadata": {},
     "output_type": "execute_result"
    }
   ],
   "source": [
    "np.arange(1, 17).reshape((2, 8))"
   ]
  },
  {
   "cell_type": "code",
   "execution_count": 118,
   "id": "administrative-crisis",
   "metadata": {},
   "outputs": [
    {
     "data": {
      "text/plain": [
       "array([1, 2, 3, 4])"
      ]
     },
     "execution_count": 118,
     "metadata": {},
     "output_type": "execute_result"
    }
   ],
   "source": [
    "np.array([[1, 2], [3, 4]]).flatten()"
   ]
  },
  {
   "cell_type": "code",
   "execution_count": 119,
   "id": "numerical-healing",
   "metadata": {},
   "outputs": [
    {
     "data": {
      "text/plain": [
       "array([ 1,  2,  3,  4,  5,  6,  7,  8,  9, 10, 11, 12, 13, 14, 15, 16])"
      ]
     },
     "execution_count": 119,
     "metadata": {},
     "output_type": "execute_result"
    }
   ],
   "source": [
    "np.arange(1, 17).reshape((4, 4)).flatten()"
   ]
  },
  {
   "cell_type": "code",
   "execution_count": 120,
   "id": "stylish-racing",
   "metadata": {},
   "outputs": [
    {
     "name": "stdout",
     "output_type": "stream",
     "text": [
      "1\n",
      "2\n",
      "3\n",
      "4\n"
     ]
    }
   ],
   "source": [
    "# .flat is an iterator over all elements\n",
    "for n in np.arange(1, 5).reshape((2, 2)).flat:\n",
    "    print(n)"
   ]
  },
  {
   "cell_type": "markdown",
   "id": "friendly-arizona",
   "metadata": {},
   "source": [
    "### Transform automatically\n",
    "\n",
    "If a parameter is `-1` in a `.reshape()` call, the necessary size will be calculated automatically."
   ]
  },
  {
   "cell_type": "code",
   "execution_count": 121,
   "id": "bulgarian-calculator",
   "metadata": {},
   "outputs": [
    {
     "data": {
      "text/plain": [
       "array([[ 0,  1,  2,  3],\n",
       "       [ 4,  5,  6,  7],\n",
       "       [ 8,  9, 10, 11]])"
      ]
     },
     "execution_count": 121,
     "metadata": {},
     "output_type": "execute_result"
    }
   ],
   "source": [
    "np.arange(12).reshape((3, -1))"
   ]
  },
  {
   "cell_type": "code",
   "execution_count": 122,
   "id": "hungarian-innocent",
   "metadata": {},
   "outputs": [
    {
     "data": {
      "text/plain": [
       "array([[ 0,  1,  2,  3],\n",
       "       [ 4,  5,  6,  7],\n",
       "       [ 8,  9, 10, 11]])"
      ]
     },
     "execution_count": 122,
     "metadata": {},
     "output_type": "execute_result"
    }
   ],
   "source": [
    "np.arange(12).reshape((-1, 4))"
   ]
  },
  {
   "cell_type": "markdown",
   "id": "growing-machine",
   "metadata": {},
   "source": [
    "## Rounding"
   ]
  },
  {
   "cell_type": "code",
   "execution_count": 123,
   "id": "recovered-queensland",
   "metadata": {},
   "outputs": [
    {
     "name": "stdout",
     "output_type": "stream",
     "text": [
      "[1.  1.3 1.5 1.7 2. ]\n",
      "[1. 1. 2. 2. 2.]\n",
      "[1 1 2 2 2]\n",
      "[1 1 1 1 2]\n"
     ]
    }
   ],
   "source": [
    "a = np.array([1.0, 1.3, 1.5, 1.7, 2.0])\n",
    "print(a)\n",
    "print(a.round())\n",
    "print(a.round().astype(int))\n",
    "print(a.astype(int))"
   ]
  },
  {
   "cell_type": "markdown",
   "id": "quiet-issue",
   "metadata": {},
   "source": [
    "## Array calculations"
   ]
  },
  {
   "cell_type": "code",
   "execution_count": 124,
   "id": "communist-module",
   "metadata": {},
   "outputs": [
    {
     "name": "stdout",
     "output_type": "stream",
     "text": [
      "[ 1  2  3  4  5  6  7  8  9 10]\n",
      "[ 10  20  30  40  50  60  70  80  90 100]\n"
     ]
    }
   ],
   "source": [
    "a = np.arange(1, 11)\n",
    "b = np.arange(10, 110, 10)\n",
    "print(a)\n",
    "print(b)"
   ]
  },
  {
   "cell_type": "code",
   "execution_count": 125,
   "id": "union-jacob",
   "metadata": {},
   "outputs": [
    {
     "name": "stdout",
     "output_type": "stream",
     "text": [
      "[ 11  22  33  44  55  66  77  88  99 110]\n",
      "[  10   40   90  160  250  360  490  640  810 1000]\n"
     ]
    }
   ],
   "source": [
    "print(a + b)\n",
    "print(a * b)"
   ]
  },
  {
   "cell_type": "code",
   "execution_count": 126,
   "id": "treated-penalty",
   "metadata": {},
   "outputs": [
    {
     "data": {
      "text/plain": [
       "array([ 30,  60,  90, 120, 150, 180, 210, 240, 270, 300])"
      ]
     },
     "execution_count": 126,
     "metadata": {},
     "output_type": "execute_result"
    }
   ],
   "source": [
    "3 * b"
   ]
  },
  {
   "cell_type": "code",
   "execution_count": 127,
   "id": "irish-worthy",
   "metadata": {},
   "outputs": [
    {
     "data": {
      "text/plain": [
       "array([  1,   4,   9,  16,  25,  36,  49,  64,  81, 100])"
      ]
     },
     "execution_count": 127,
     "metadata": {},
     "output_type": "execute_result"
    }
   ],
   "source": [
    "a**2"
   ]
  },
  {
   "cell_type": "code",
   "execution_count": 128,
   "id": "drawn-street",
   "metadata": {},
   "outputs": [
    {
     "data": {
      "text/plain": [
       "array([False, False, False, False, False,  True,  True,  True,  True,\n",
       "        True])"
      ]
     },
     "execution_count": 128,
     "metadata": {},
     "output_type": "execute_result"
    }
   ],
   "source": [
    "a > 5"
   ]
  },
  {
   "cell_type": "code",
   "execution_count": 129,
   "id": "metric-southwest",
   "metadata": {},
   "outputs": [
    {
     "data": {
      "text/plain": [
       "array([ 8.41470985,  9.09297427,  1.41120008, -7.56802495, -9.58924275,\n",
       "       -2.79415498,  6.56986599,  9.89358247,  4.12118485, -5.44021111])"
      ]
     },
     "execution_count": 129,
     "metadata": {},
     "output_type": "execute_result"
    }
   ],
   "source": [
    "10 * np.sin(a)"
   ]
  },
  {
   "cell_type": "markdown",
   "id": "peaceful-muslim",
   "metadata": {},
   "source": [
    "## Assign new values"
   ]
  },
  {
   "cell_type": "code",
   "execution_count": 130,
   "id": "advance-punishment",
   "metadata": {},
   "outputs": [
    {
     "name": "stdout",
     "output_type": "stream",
     "text": [
      "[1 1 3 1 1 1 1 1]\n"
     ]
    }
   ],
   "source": [
    "c = np.ones(8, int)\n",
    "c[2] = 3\n",
    "print(c)"
   ]
  },
  {
   "cell_type": "code",
   "execution_count": 131,
   "id": "complete-survival",
   "metadata": {},
   "outputs": [
    {
     "name": "stdout",
     "output_type": "stream",
     "text": [
      "[ 9  9 27  9  9  9  9  9]\n"
     ]
    }
   ],
   "source": [
    "c *= 9\n",
    "print(c)"
   ]
  },
  {
   "cell_type": "code",
   "execution_count": 132,
   "id": "unusual-stephen",
   "metadata": {},
   "outputs": [
    {
     "data": {
      "text/plain": [
       "array([ 9,  9, 27,  9,  9])"
      ]
     },
     "execution_count": 132,
     "metadata": {},
     "output_type": "execute_result"
    }
   ],
   "source": [
    "c[:-3]"
   ]
  },
  {
   "cell_type": "code",
   "execution_count": 133,
   "id": "frozen-sally",
   "metadata": {},
   "outputs": [
    {
     "data": {
      "text/plain": [
       "array([3, 3, 3, 3])"
      ]
     },
     "execution_count": 133,
     "metadata": {},
     "output_type": "execute_result"
    }
   ],
   "source": [
    "c = np.empty(4, int)\n",
    "c.fill(3)\n",
    "c"
   ]
  },
  {
   "cell_type": "markdown",
   "id": "continuous-destination",
   "metadata": {},
   "source": [
    "## Type Conversion"
   ]
  },
  {
   "cell_type": "code",
   "execution_count": 134,
   "id": "identified-reduction",
   "metadata": {},
   "outputs": [
    {
     "data": {
      "text/plain": [
       "array([0., 1., 2., 3., 4.], dtype=float32)"
      ]
     },
     "execution_count": 134,
     "metadata": {},
     "output_type": "execute_result"
    }
   ],
   "source": [
    "a = np.arange(5, dtype=np.float32)\n",
    "a"
   ]
  },
  {
   "cell_type": "code",
   "execution_count": 135,
   "id": "radio-acoustic",
   "metadata": {},
   "outputs": [
    {
     "data": {
      "text/plain": [
       "array([0, 1, 2, 3, 4], dtype=uint8)"
      ]
     },
     "execution_count": 135,
     "metadata": {},
     "output_type": "execute_result"
    }
   ],
   "source": [
    "a.astype(np.uint8)"
   ]
  }
 ],
 "metadata": {
  "kernelspec": {
   "display_name": "Python 3",
   "language": "python",
   "name": "python3"
  },
  "language_info": {
   "codemirror_mode": {
    "name": "ipython",
    "version": 3
   },
   "file_extension": ".py",
   "mimetype": "text/x-python",
   "name": "python",
   "nbconvert_exporter": "python",
   "pygments_lexer": "ipython3",
   "version": "3.12.4"
  }
 },
 "nbformat": 4,
 "nbformat_minor": 5
}
